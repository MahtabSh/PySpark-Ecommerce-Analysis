{
 "cells": [
  {
   "cell_type": "code",
   "execution_count": 1,
   "id": "343156a0",
   "metadata": {},
   "outputs": [],
   "source": [
    "#import\n",
    "import pyspark\n",
    "from pyspark.sql import SparkSession\n",
    "from pyspark.sql.functions import col, substring"
   ]
  },
  {
   "cell_type": "code",
   "execution_count": 2,
   "id": "4a6ab6d1",
   "metadata": {},
   "outputs": [
    {
     "name": "stderr",
     "output_type": "stream",
     "text": [
      "24/04/26 18:50:48 WARN Utils: Your hostname, mahtab-lap resolves to a loopback address: 127.0.1.1; using 172.20.10.2 instead (on interface wlo1)\n",
      "24/04/26 18:50:48 WARN Utils: Set SPARK_LOCAL_IP if you need to bind to another address\n",
      "Setting default log level to \"WARN\".\n",
      "To adjust logging level use sc.setLogLevel(newLevel). For SparkR, use setLogLevel(newLevel).\n",
      "24/04/26 18:50:49 WARN NativeCodeLoader: Unable to load native-hadoop library for your platform... using builtin-java classes where applicable\n",
      "24/04/26 18:50:50 WARN Utils: Service 'SparkUI' could not bind on port 4040. Attempting port 4041.\n",
      "24/04/26 18:50:50 WARN Utils: Service 'SparkUI' could not bind on port 4041. Attempting port 4042.\n"
     ]
    }
   ],
   "source": [
    "# Spark Session Setup\n",
    "spark = SparkSession\\\n",
    "      .builder\\\n",
    "      .appName(\"Customer Analysis\")\\\n",
    "      .getOrCreate()"
   ]
  },
  {
   "cell_type": "code",
   "execution_count": 3,
   "id": "b805a29f",
   "metadata": {},
   "outputs": [
    {
     "name": "stderr",
     "output_type": "stream",
     "text": [
      "                                                                                \r"
     ]
    }
   ],
   "source": [
    "# import oders \n",
    "orderFilePath = '../data/orders.csv'\n",
    "order_df = spark.read.options(header='true', inferSchema='true').csv(orderFilePath)"
   ]
  },
  {
   "cell_type": "code",
   "execution_count": 4,
   "id": "35664414",
   "metadata": {},
   "outputs": [
    {
     "name": "stdout",
     "output_type": "stream",
     "text": [
      "root\n",
      " |-- ID_Order: integer (nullable = true)\n",
      " |-- ID_Customer: integer (nullable = true)\n",
      " |-- ID_Item: integer (nullable = true)\n",
      " |-- DateTime_CartFinalize: timestamp (nullable = true)\n",
      " |-- Amount_Gross_Order: double (nullable = true)\n",
      " |-- city_name_fa: string (nullable = true)\n",
      " |-- Quantity_item: double (nullable = true)\n",
      "\n"
     ]
    }
   ],
   "source": [
    "#schema\n",
    "order_df.printSchema()\n"
   ]
  },
  {
   "cell_type": "code",
   "execution_count": 5,
   "id": "20eeecdb",
   "metadata": {},
   "outputs": [
    {
     "data": {
      "text/plain": [
       "200000"
      ]
     },
     "execution_count": 5,
     "metadata": {},
     "output_type": "execute_result"
    }
   ],
   "source": [
    "#Number of records\n",
    "order_df.count()"
   ]
  },
  {
   "cell_type": "markdown",
   "id": "26f6313b",
   "metadata": {},
   "source": [
    "# How many unique customers have made purchases?\n"
   ]
  },
  {
   "cell_type": "code",
   "execution_count": 6,
   "id": "1ff78248",
   "metadata": {},
   "outputs": [
    {
     "name": "stderr",
     "output_type": "stream",
     "text": [
      "                                                                                \r"
     ]
    },
    {
     "data": {
      "text/plain": [
       "151634"
      ]
     },
     "execution_count": 6,
     "metadata": {},
     "output_type": "execute_result"
    }
   ],
   "source": [
    "order_df.select(col(\"ID_Customer\")).distinct().count()"
   ]
  },
  {
   "cell_type": "markdown",
   "id": "1c94869e",
   "metadata": {},
   "source": [
    "# Find the total number of customers per each city"
   ]
  },
  {
   "cell_type": "code",
   "execution_count": 7,
   "id": "84c05c8f",
   "metadata": {},
   "outputs": [],
   "source": [
    "order_distinct_customer_df = order_df.drop_duplicates(subset=['ID_Customer'])\n"
   ]
  },
  {
   "cell_type": "code",
   "execution_count": 8,
   "id": "b78b5bb8",
   "metadata": {},
   "outputs": [],
   "source": [
    "city_count_df = order_distinct_customer_df.groupBy(\"city_name_fa\").count()"
   ]
  },
  {
   "cell_type": "code",
   "execution_count": 9,
   "id": "f59d2f2c",
   "metadata": {},
   "outputs": [],
   "source": [
    "city_count_df = city_count_df.orderBy(\"count\") "
   ]
  },
  {
   "cell_type": "code",
   "execution_count": 10,
   "id": "ccd903cd",
   "metadata": {},
   "outputs": [
    {
     "name": "stderr",
     "output_type": "stream",
     "text": [
      "\r",
      "[Stage 11:==============>                                           (1 + 3) / 4]\r"
     ]
    },
    {
     "name": "stdout",
     "output_type": "stream",
     "text": [
      "+----------------+-----+\n",
      "|    city_name_fa|count|\n",
      "+----------------+-----+\n",
      "|           خنجین|    1|\n",
      "|       طبس مسینا|    1|\n",
      "|           نودان|    1|\n",
      "|      قلندر آباد|    1|\n",
      "|      قلعه خواجه|    1|\n",
      "|          باسمنج|    1|\n",
      "|          سبزدشت|    1|\n",
      "|             سده|    1|\n",
      "|         اسلامیه|    1|\n",
      "|         مرزیکلا|    1|\n",
      "|          آبژدان|    1|\n",
      "|محمود آباد نمونه|    1|\n",
      "|          مارگون|    1|\n",
      "|            حویق|    1|\n",
      "|             نیر|    1|\n",
      "|           الوان|    1|\n",
      "|            زرنه|    1|\n",
      "|          گوهران|    1|\n",
      "|          خاکعلی|    1|\n",
      "|       داود آباد|    1|\n",
      "+----------------+-----+\n",
      "only showing top 20 rows\n",
      "\n"
     ]
    },
    {
     "name": "stderr",
     "output_type": "stream",
     "text": [
      "\r",
      "                                                                                \r"
     ]
    }
   ],
   "source": [
    "city_count_df.show()"
   ]
  },
  {
   "cell_type": "code",
   "execution_count": 11,
   "id": "4f1376ec",
   "metadata": {},
   "outputs": [
    {
     "data": {
      "text/plain": [
       "904"
      ]
     },
     "execution_count": 11,
     "metadata": {},
     "output_type": "execute_result"
    }
   ],
   "source": [
    "city_count_df.count()"
   ]
  },
  {
   "cell_type": "code",
   "execution_count": 12,
   "id": "8b4cb113",
   "metadata": {
    "scrolled": true
   },
   "outputs": [
    {
     "data": {
      "text/plain": [
       "741"
      ]
     },
     "execution_count": 12,
     "metadata": {},
     "output_type": "execute_result"
    }
   ],
   "source": [
    "# Number of cities with more than 1 customer\n",
    "city_count_df.where(col(\"count\")!=1).count()"
   ]
  },
  {
   "cell_type": "code",
   "execution_count": 21,
   "id": "567ab800",
   "metadata": {},
   "outputs": [
    {
     "data": {
      "text/plain": [
       "414"
      ]
     },
     "execution_count": 21,
     "metadata": {},
     "output_type": "execute_result"
    }
   ],
   "source": [
    "# Number of cities with more than 10 customer\n",
    "city_count_df.where(col(\"count\")>=10).count()"
   ]
  },
  {
   "cell_type": "code",
   "execution_count": 22,
   "id": "ae1887cd",
   "metadata": {},
   "outputs": [
    {
     "data": {
      "text/plain": [
       "92"
      ]
     },
     "execution_count": 22,
     "metadata": {},
     "output_type": "execute_result"
    }
   ],
   "source": [
    "city_count_df.where(col(\"count\")>=100).count()"
   ]
  },
  {
   "cell_type": "code",
   "execution_count": 23,
   "id": "13374136",
   "metadata": {},
   "outputs": [
    {
     "data": {
      "text/plain": [
       "62"
      ]
     },
     "execution_count": 23,
     "metadata": {},
     "output_type": "execute_result"
    }
   ],
   "source": [
    "city_count_df.where(col(\"count\")>=200).count()"
   ]
  },
  {
   "cell_type": "code",
   "execution_count": 24,
   "id": "9eddbf7d",
   "metadata": {},
   "outputs": [
    {
     "data": {
      "text/plain": [
       "33"
      ]
     },
     "execution_count": 24,
     "metadata": {},
     "output_type": "execute_result"
    }
   ],
   "source": [
    "city_count_df.where(col(\"count\")>=400).count()"
   ]
  },
  {
   "cell_type": "code",
   "execution_count": 25,
   "id": "f3a3904a",
   "metadata": {},
   "outputs": [
    {
     "data": {
      "text/plain": [
       "29"
      ]
     },
     "execution_count": 25,
     "metadata": {},
     "output_type": "execute_result"
    }
   ],
   "source": [
    "city_count_df.where(col(\"count\")>=500).count()"
   ]
  },
  {
   "cell_type": "code",
   "execution_count": 26,
   "id": "11ef82d6",
   "metadata": {},
   "outputs": [
    {
     "data": {
      "text/plain": [
       "14"
      ]
     },
     "execution_count": 26,
     "metadata": {},
     "output_type": "execute_result"
    }
   ],
   "source": [
    "city_count_df.where(col(\"count\")>=1000).count()"
   ]
  },
  {
   "cell_type": "code",
   "execution_count": 32,
   "id": "9787a442",
   "metadata": {},
   "outputs": [],
   "source": [
    "#Order data frame descending, and find the top ten city that sales the most\n",
    "city_top_ten_city = city_count_df.orderBy(\"count\", ascending=False)"
   ]
  },
  {
   "cell_type": "code",
   "execution_count": 33,
   "id": "cd1d41c3",
   "metadata": {},
   "outputs": [
    {
     "name": "stdout",
     "output_type": "stream",
     "text": [
      "+------------+-----+\n",
      "|city_name_fa|count|\n",
      "+------------+-----+\n",
      "|       تهران|80420|\n",
      "|        مشهد| 4625|\n",
      "|      اصفهان| 4602|\n",
      "|         کرج| 4593|\n",
      "|       اهواز| 3315|\n",
      "|       شیراز| 3032|\n",
      "|         رشت| 2374|\n",
      "|       تبریز| 2053|\n",
      "|          قم| 1865|\n",
      "|    کرمانشاه| 1692|\n",
      "|         یزد| 1601|\n",
      "|       کرمان| 1238|\n",
      "|        ساری| 1208|\n",
      "|       قزوین| 1006|\n",
      "|       همدان|  973|\n",
      "|   بندر عباس|  952|\n",
      "|       گرگان|  934|\n",
      "|      ارومیه|  835|\n",
      "|        بابل|  794|\n",
      "|        اراک|  733|\n",
      "+------------+-----+\n",
      "only showing top 20 rows\n",
      "\n"
     ]
    }
   ],
   "source": [
    "city_top_ten_city.show()"
   ]
  },
  {
   "cell_type": "code",
   "execution_count": 36,
   "id": "c11ec326",
   "metadata": {},
   "outputs": [],
   "source": [
    "city_top_ten_city_pd = city_top_ten_city.toPandas()"
   ]
  },
  {
   "cell_type": "code",
   "execution_count": 37,
   "id": "898df252",
   "metadata": {},
   "outputs": [],
   "source": [
    "city_top_ten_city_pd = city_top_ten_city_pd.head(10)"
   ]
  },
  {
   "cell_type": "code",
   "execution_count": 38,
   "id": "765fc47b",
   "metadata": {},
   "outputs": [
    {
     "data": {
      "text/html": [
       "<div>\n",
       "<style scoped>\n",
       "    .dataframe tbody tr th:only-of-type {\n",
       "        vertical-align: middle;\n",
       "    }\n",
       "\n",
       "    .dataframe tbody tr th {\n",
       "        vertical-align: top;\n",
       "    }\n",
       "\n",
       "    .dataframe thead th {\n",
       "        text-align: right;\n",
       "    }\n",
       "</style>\n",
       "<table border=\"1\" class=\"dataframe\">\n",
       "  <thead>\n",
       "    <tr style=\"text-align: right;\">\n",
       "      <th></th>\n",
       "      <th>city_name_fa</th>\n",
       "      <th>count</th>\n",
       "    </tr>\n",
       "  </thead>\n",
       "  <tbody>\n",
       "    <tr>\n",
       "      <th>0</th>\n",
       "      <td>تهران</td>\n",
       "      <td>80420</td>\n",
       "    </tr>\n",
       "    <tr>\n",
       "      <th>1</th>\n",
       "      <td>مشهد</td>\n",
       "      <td>4625</td>\n",
       "    </tr>\n",
       "    <tr>\n",
       "      <th>2</th>\n",
       "      <td>اصفهان</td>\n",
       "      <td>4602</td>\n",
       "    </tr>\n",
       "    <tr>\n",
       "      <th>3</th>\n",
       "      <td>کرج</td>\n",
       "      <td>4593</td>\n",
       "    </tr>\n",
       "    <tr>\n",
       "      <th>4</th>\n",
       "      <td>اهواز</td>\n",
       "      <td>3315</td>\n",
       "    </tr>\n",
       "    <tr>\n",
       "      <th>5</th>\n",
       "      <td>شیراز</td>\n",
       "      <td>3032</td>\n",
       "    </tr>\n",
       "    <tr>\n",
       "      <th>6</th>\n",
       "      <td>رشت</td>\n",
       "      <td>2374</td>\n",
       "    </tr>\n",
       "    <tr>\n",
       "      <th>7</th>\n",
       "      <td>تبریز</td>\n",
       "      <td>2053</td>\n",
       "    </tr>\n",
       "    <tr>\n",
       "      <th>8</th>\n",
       "      <td>قم</td>\n",
       "      <td>1865</td>\n",
       "    </tr>\n",
       "    <tr>\n",
       "      <th>9</th>\n",
       "      <td>کرمانشاه</td>\n",
       "      <td>1692</td>\n",
       "    </tr>\n",
       "  </tbody>\n",
       "</table>\n",
       "</div>"
      ],
      "text/plain": [
       "  city_name_fa  count\n",
       "0        تهران  80420\n",
       "1         مشهد   4625\n",
       "2       اصفهان   4602\n",
       "3          کرج   4593\n",
       "4        اهواز   3315\n",
       "5        شیراز   3032\n",
       "6          رشت   2374\n",
       "7        تبریز   2053\n",
       "8           قم   1865\n",
       "9     کرمانشاه   1692"
      ]
     },
     "execution_count": 38,
     "metadata": {},
     "output_type": "execute_result"
    }
   ],
   "source": [
    "city_top_ten_city_pd"
   ]
  },
  {
   "cell_type": "code",
   "execution_count": 39,
   "id": "c151263e",
   "metadata": {},
   "outputs": [],
   "source": [
    "import matplotlib.pyplot as plt\n"
   ]
  },
  {
   "cell_type": "code",
   "execution_count": 44,
   "id": "ab0e4491",
   "metadata": {},
   "outputs": [],
   "source": [
    "city_names = city_top_ten_city_pd['city_name_fa']\n",
    "# for better resut convert Persian city name to English\n",
    "city_names = ['Tehran', 'Mashhad', 'Esfehan', 'Karaj', 'Ahvaz', 'Shiraz', 'Rasht', 'Tabriz', 'Ghom', 'Kermanshah']"
   ]
  },
  {
   "cell_type": "code",
   "execution_count": 45,
   "id": "d8cdb902",
   "metadata": {},
   "outputs": [],
   "source": [
    "counts = city_top_ten_city_pd['count']\n"
   ]
  },
  {
   "cell_type": "code",
   "execution_count": 46,
   "id": "737f7047",
   "metadata": {},
   "outputs": [
    {
     "data": {
      "image/png": "[encoded data removed]",
      "text/plain": [
       "<Figure size 576x576 with 1 Axes>"
      ]
     },
     "metadata": {},
     "output_type": "display_data"
    }
   ],
   "source": [
    "plt.figure(figsize=(8, 8))\n",
    "plt.pie(counts, labels=city_names, autopct='%1.1f%%', startangle=140)\n",
    "plt.title('Distribution of Counts by City')\n",
    "plt.axis('equal')  # Equal aspect ratio ensures that pie is drawn as a circle.\n",
    "plt.show()"
   ]
  },
  {
   "cell_type": "code",
   "execution_count": null,
   "id": "1908ea27",
   "metadata": {},
   "outputs": [],
   "source": []
  }
 ],
 "metadata": {
  "kernelspec": {
   "display_name": "Python 3 (ipykernel)",
   "language": "python",
   "name": "python3"
  },
  "language_info": {
   "codemirror_mode": {
    "name": "ipython",
    "version": 3
   },
   "file_extension": ".py",
   "mimetype": "text/x-python",
   "name": "python",
   "nbconvert_exporter": "python",
   "pygments_lexer": "ipython3",
   "version": "3.10.12"
  }
 },
 "nbformat": 4,
 "nbformat_minor": 5
}
