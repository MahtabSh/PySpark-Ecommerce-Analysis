{
 "cells": [
  {
   "cell_type": "markdown",
   "id": "e5c7b052",
   "metadata": {},
   "source": [
    "# E-commerce Sales Analysis using PySpark"
   ]
  },
  {
   "cell_type": "markdown",
   "id": "23ceda71",
   "metadata": {},
   "source": [
    "# Imports\n"
   ]
  },
  {
   "cell_type": "code",
   "execution_count": 1,
   "id": "8cf600c7",
   "metadata": {},
   "outputs": [],
   "source": [
    "import pyspark\n",
    "from pyspark.sql import SparkSession\n",
    "from pyspark.sql.functions import col, substring"
   ]
  },
  {
   "cell_type": "markdown",
   "id": "1bb79414",
   "metadata": {},
   "source": [
    "# Spark Session Setup\n"
   ]
  },
  {
   "cell_type": "code",
   "execution_count": 2,
   "id": "3f0ffe8d",
   "metadata": {},
   "outputs": [
    {
     "name": "stderr",
     "output_type": "stream",
     "text": [
      "24/04/26 18:36:03 WARN Utils: Your hostname, mahtab-lap resolves to a loopback address: 127.0.1.1; using 172.20.10.2 instead (on interface wlo1)\n",
      "24/04/26 18:36:03 WARN Utils: Set SPARK_LOCAL_IP if you need to bind to another address\n",
      "Setting default log level to \"WARN\".\n",
      "To adjust logging level use sc.setLogLevel(newLevel). For SparkR, use setLogLevel(newLevel).\n",
      "24/04/26 18:36:04 WARN NativeCodeLoader: Unable to load native-hadoop library for your platform... using builtin-java classes where applicable\n",
      "24/04/26 18:36:05 WARN Utils: Service 'SparkUI' could not bind on port 4040. Attempting port 4041.\n"
     ]
    }
   ],
   "source": [
    "spark = SparkSession\\\n",
    "      .builder\\\n",
    "      .appName(\"Sales Analysis\")\\\n",
    "      .getOrCreate()"
   ]
  },
  {
   "cell_type": "markdown",
   "id": "c542a359",
   "metadata": {},
   "source": [
    "# Load Orders Data\n"
   ]
  },
  {
   "cell_type": "code",
   "execution_count": 3,
   "id": "ef31b722",
   "metadata": {},
   "outputs": [
    {
     "name": "stderr",
     "output_type": "stream",
     "text": [
      "                                                                                \r"
     ]
    }
   ],
   "source": [
    "# import oders \n",
    "orderFilePath = '../data/orders.csv'\n",
    "order_df = spark.read.options(header='true', inferSchema='true').csv(orderFilePath)"
   ]
  },
  {
   "cell_type": "code",
   "execution_count": 4,
   "id": "08eb198d",
   "metadata": {},
   "outputs": [
    {
     "data": {
      "text/plain": [
       "200000"
      ]
     },
     "execution_count": 4,
     "metadata": {},
     "output_type": "execute_result"
    }
   ],
   "source": [
    "# Number of records\n",
    "order_df.count()"
   ]
  },
  {
   "cell_type": "code",
   "execution_count": 5,
   "id": "215a0988",
   "metadata": {},
   "outputs": [
    {
     "name": "stdout",
     "output_type": "stream",
     "text": [
      "root\n",
      " |-- ID_Order: integer (nullable = true)\n",
      " |-- ID_Customer: integer (nullable = true)\n",
      " |-- ID_Item: integer (nullable = true)\n",
      " |-- DateTime_CartFinalize: timestamp (nullable = true)\n",
      " |-- Amount_Gross_Order: double (nullable = true)\n",
      " |-- city_name_fa: string (nullable = true)\n",
      " |-- Quantity_item: double (nullable = true)\n",
      "\n"
     ]
    }
   ],
   "source": [
    "# Schema\n",
    "order_df.printSchema()"
   ]
  },
  {
   "cell_type": "code",
   "execution_count": 6,
   "id": "a78af34b",
   "metadata": {},
   "outputs": [
    {
     "name": "stderr",
     "output_type": "stream",
     "text": [
      "                                                                                \r"
     ]
    },
    {
     "data": {
      "text/plain": [
       "200000"
      ]
     },
     "execution_count": 6,
     "metadata": {},
     "output_type": "execute_result"
    }
   ],
   "source": [
    "# Check for duplicates\n",
    "order_df.distinct().count()"
   ]
  },
  {
   "cell_type": "markdown",
   "id": "7a294720",
   "metadata": {},
   "source": [
    "# Data Preprocessing\n",
    "\n"
   ]
  },
  {
   "cell_type": "markdown",
   "id": "e94bdced",
   "metadata": {},
   "source": [
    "# Date DataFrame Creation\n"
   ]
  },
  {
   "cell_type": "code",
   "execution_count": 7,
   "id": "f16d4c14",
   "metadata": {},
   "outputs": [
    {
     "name": "stdout",
     "output_type": "stream",
     "text": [
      "+---------------------+\n",
      "|DateTime_CartFinalize|\n",
      "+---------------------+\n",
      "|2015-10-15 08:50:56  |\n",
      "|2018-02-11 00:29:26  |\n",
      "|2016-06-14 00:30:08  |\n",
      "|2018-09-03 14:37:19  |\n",
      "|2016-05-21 11:51:02  |\n",
      "|2018-03-01 12:07:15  |\n",
      "|2017-08-19 13:30:24  |\n",
      "|2018-03-04 19:19:02  |\n",
      "|2017-12-11 19:33:59  |\n",
      "|2018-01-23 06:11:34  |\n",
      "+---------------------+\n",
      "only showing top 10 rows\n",
      "\n"
     ]
    }
   ],
   "source": [
    "order_df.select(col(\"DateTime_CartFinalize\")).show(10, truncate=False)"
   ]
  },
  {
   "cell_type": "code",
   "execution_count": 8,
   "id": "9105eecf",
   "metadata": {},
   "outputs": [],
   "source": [
    "# Version 1\n",
    "date_df_v1 = order_df.withColumn(\"year\",  substring(\"DateTime_CartFinalize\", 1, 4))\\\n",
    "                  .withColumn(\"month\", substring(\"DateTime_CartFinalize\", 6, 2))\\\n",
    "                  .withColumn(\"day\",   substring(\"DateTime_CartFinalize\", 9, 2))\\\n",
    "                  .withColumn(\"date\",  substring(\"DateTime_CartFinalize\", 1, 10))\\\n",
    "                  .withColumn(\"time\",  substring(\"DateTime_CartFinalize\", 12, 8))\\\n",
    "                  .select(col(\"date\"), col(\"time\"), col(\"year\"), col(\"month\"), col(\"day\"))"
   ]
  },
  {
   "cell_type": "code",
   "execution_count": 9,
   "id": "359fccc3",
   "metadata": {},
   "outputs": [
    {
     "name": "stdout",
     "output_type": "stream",
     "text": [
      "+----------+--------+----+-----+---+\n",
      "|      date|    time|year|month|day|\n",
      "+----------+--------+----+-----+---+\n",
      "|2015-10-15|08:50:56|2015|   10| 15|\n",
      "|2018-02-11|00:29:26|2018|   02| 11|\n",
      "|2016-06-14|00:30:08|2016|   06| 14|\n",
      "|2018-09-03|14:37:19|2018|   09| 03|\n",
      "|2016-05-21|11:51:02|2016|   05| 21|\n",
      "|2018-03-01|12:07:15|2018|   03| 01|\n",
      "|2017-08-19|13:30:24|2017|   08| 19|\n",
      "|2018-03-04|19:19:02|2018|   03| 04|\n",
      "|2017-12-11|19:33:59|2017|   12| 11|\n",
      "|2018-01-23|06:11:34|2018|   01| 23|\n",
      "|2016-08-02|10:48:18|2016|   08| 02|\n",
      "|2016-12-04|03:12:59|2016|   12| 04|\n",
      "|2018-06-13|12:28:55|2018|   06| 13|\n",
      "|2018-11-21|07:44:36|2018|   11| 21|\n",
      "|2016-08-31|13:27:44|2016|   08| 31|\n",
      "|2017-07-05|09:37:45|2017|   07| 05|\n",
      "|2018-10-04|17:48:12|2018|   10| 04|\n",
      "|2017-12-13|11:28:20|2017|   12| 13|\n",
      "|2018-10-30|22:15:15|2018|   10| 30|\n",
      "|2015-09-20|09:25:01|2015|   09| 20|\n",
      "+----------+--------+----+-----+---+\n",
      "only showing top 20 rows\n",
      "\n"
     ]
    }
   ],
   "source": [
    "date_df_v1.show()"
   ]
  },
  {
   "cell_type": "code",
   "execution_count": 10,
   "id": "e726023a",
   "metadata": {},
   "outputs": [],
   "source": [
    "# Version 2\n",
    "from pyspark.sql.functions import col, year, month, dayofmonth, date_format"
   ]
  },
  {
   "cell_type": "code",
   "execution_count": 11,
   "id": "1c216b52",
   "metadata": {},
   "outputs": [],
   "source": [
    "date_df_v2 = order_df.withColumn(\"date\", date_format(col(\"DateTime_CartFinalize\"), \"yyyy-MM-dd\"))\\\n",
    "                     .withColumn(\"time\", date_format(col(\"DateTime_CartFinalize\"), \"HH:mm:ss\"))\\\n",
    "                     .withColumn(\"year\", year(col(\"DateTime_CartFinalize\")))\\\n",
    "                     .withColumn(\"month\", month(col(\"DateTime_CartFinalize\")))\\\n",
    "                     .withColumn(\"day\", dayofmonth(col(\"DateTime_CartFinalize\")))\\\n",
    "                     .select(\"date\", \"time\", \"year\", \"month\", \"day\")"
   ]
  },
  {
   "cell_type": "code",
   "execution_count": 12,
   "id": "8f2b8ff7",
   "metadata": {},
   "outputs": [
    {
     "name": "stdout",
     "output_type": "stream",
     "text": [
      "+----------+--------+----+-----+---+\n",
      "|      date|    time|year|month|day|\n",
      "+----------+--------+----+-----+---+\n",
      "|2015-10-15|08:50:56|2015|   10| 15|\n",
      "|2018-02-11|00:29:26|2018|    2| 11|\n",
      "|2016-06-14|00:30:08|2016|    6| 14|\n",
      "|2018-09-03|14:37:19|2018|    9|  3|\n",
      "|2016-05-21|11:51:02|2016|    5| 21|\n",
      "|2018-03-01|12:07:15|2018|    3|  1|\n",
      "|2017-08-19|13:30:24|2017|    8| 19|\n",
      "|2018-03-04|19:19:02|2018|    3|  4|\n",
      "|2017-12-11|19:33:59|2017|   12| 11|\n",
      "|2018-01-23|06:11:34|2018|    1| 23|\n",
      "|2016-08-02|10:48:18|2016|    8|  2|\n",
      "|2016-12-04|03:12:59|2016|   12|  4|\n",
      "|2018-06-13|12:28:55|2018|    6| 13|\n",
      "|2018-11-21|07:44:36|2018|   11| 21|\n",
      "|2016-08-31|13:27:44|2016|    8| 31|\n",
      "|2017-07-05|09:37:45|2017|    7|  5|\n",
      "|2018-10-04|17:48:12|2018|   10|  4|\n",
      "|2017-12-13|11:28:20|2017|   12| 13|\n",
      "|2018-10-30|22:15:15|2018|   10| 30|\n",
      "|2015-09-20|09:25:01|2015|    9| 20|\n",
      "+----------+--------+----+-----+---+\n",
      "only showing top 20 rows\n",
      "\n"
     ]
    }
   ],
   "source": [
    "date_df_v2.show()"
   ]
  },
  {
   "cell_type": "code",
   "execution_count": 13,
   "id": "9f91f12d",
   "metadata": {},
   "outputs": [],
   "source": []
  },
  {
   "cell_type": "code",
   "execution_count": 13,
   "id": "8986ecf8",
   "metadata": {},
   "outputs": [
    {
     "name": "stdout",
     "output_type": "stream",
     "text": [
      "+----------+-------------------+----+-----+---+\n",
      "|      date|               time|year|month|day|\n",
      "+----------+-------------------+----+-----+---+\n",
      "|2015-10-15|2015-10-15 08:50:56|2015|   10| 15|\n",
      "|2018-02-11|2018-02-11 00:29:26|2018|    2| 11|\n",
      "|2016-06-14|2016-06-14 00:30:08|2016|    6| 14|\n",
      "|2018-09-03|2018-09-03 14:37:19|2018|    9|  3|\n",
      "|2016-05-21|2016-05-21 11:51:02|2016|    5| 21|\n",
      "|2018-03-01|2018-03-01 12:07:15|2018|    3|  1|\n",
      "|2017-08-19|2017-08-19 13:30:24|2017|    8| 19|\n",
      "|2018-03-04|2018-03-04 19:19:02|2018|    3|  4|\n",
      "|2017-12-11|2017-12-11 19:33:59|2017|   12| 11|\n",
      "|2018-01-23|2018-01-23 06:11:34|2018|    1| 23|\n",
      "|2016-08-02|2016-08-02 10:48:18|2016|    8|  2|\n",
      "|2016-12-04|2016-12-04 03:12:59|2016|   12|  4|\n",
      "|2018-06-13|2018-06-13 12:28:55|2018|    6| 13|\n",
      "|2018-11-21|2018-11-21 07:44:36|2018|   11| 21|\n",
      "|2016-08-31|2016-08-31 13:27:44|2016|    8| 31|\n",
      "|2017-07-05|2017-07-05 09:37:45|2017|    7|  5|\n",
      "|2018-10-04|2018-10-04 17:48:12|2018|   10|  4|\n",
      "|2017-12-13|2017-12-13 11:28:20|2017|   12| 13|\n",
      "|2018-10-30|2018-10-30 22:15:15|2018|   10| 30|\n",
      "|2015-09-20|2015-09-20 09:25:01|2015|    9| 20|\n",
      "+----------+-------------------+----+-----+---+\n",
      "only showing top 20 rows\n",
      "\n"
     ]
    }
   ],
   "source": [
    "# Version 3\n",
    "from pyspark.sql.functions import to_date, to_timestamp\n",
    "\n",
    "date_df_v3 = order_df.withColumn(\"date\", to_date(col(\"DateTime_CartFinalize\"))) \\\n",
    "            .withColumn(\"time\", to_timestamp(col(\"DateTime_CartFinalize\"))) \\\n",
    "            .withColumn(\"year\", year(col(\"DateTime_CartFinalize\"))) \\\n",
    "            .withColumn(\"month\", month(col(\"DateTime_CartFinalize\"))) \\\n",
    "            .withColumn(\"day\", dayofmonth(col(\"DateTime_CartFinalize\"))) \\\n",
    "            .select(\"date\", \"time\", \"year\", \"month\", \"day\")\n",
    "\n",
    "date_df_v3.show()\n"
   ]
  },
  {
   "cell_type": "markdown",
   "id": "d5a20aaa",
   "metadata": {},
   "source": [
    "# Analysis\n"
   ]
  },
  {
   "cell_type": "code",
   "execution_count": 14,
   "id": "f1f94130",
   "metadata": {},
   "outputs": [],
   "source": [
    "from pyspark.sql.functions import max, sum"
   ]
  },
  {
   "cell_type": "code",
   "execution_count": 15,
   "id": "1ad6185d",
   "metadata": {},
   "outputs": [],
   "source": [
    "max_year = date_df_v2.agg(max(\"year\")).collect()[0][0]"
   ]
  },
  {
   "cell_type": "code",
   "execution_count": 16,
   "id": "2da2999a",
   "metadata": {},
   "outputs": [
    {
     "data": {
      "text/plain": [
       "2018"
      ]
     },
     "execution_count": 16,
     "metadata": {},
     "output_type": "execute_result"
    }
   ],
   "source": [
    "max_year"
   ]
  },
  {
   "cell_type": "code",
   "execution_count": 17,
   "id": "503fb0f0",
   "metadata": {},
   "outputs": [
    {
     "name": "stdout",
     "output_type": "stream",
     "text": [
      "+----+\n",
      "|year|\n",
      "+----+\n",
      "|2018|\n",
      "|2015|\n",
      "|2013|\n",
      "|2014|\n",
      "|2016|\n",
      "|2017|\n",
      "+----+\n",
      "\n"
     ]
    }
   ],
   "source": [
    "date_df_v2.select(col('year')).distinct().show()"
   ]
  },
  {
   "cell_type": "code",
   "execution_count": 18,
   "id": "7bc363b0",
   "metadata": {},
   "outputs": [],
   "source": [
    "order_df = order_df.withColumn(\"date\", date_format(col(\"DateTime_CartFinalize\"), \"yyyy-MM-dd\"))\\\n",
    "                     .withColumn(\"time\", date_format(col(\"DateTime_CartFinalize\"), \"HH:mm:ss\"))\\\n",
    "                     .withColumn(\"year\", year(col(\"DateTime_CartFinalize\")))\\\n",
    "                     .withColumn(\"month\", month(col(\"DateTime_CartFinalize\")))\\\n",
    "                     .withColumn(\"day\", dayofmonth(col(\"DateTime_CartFinalize\")))"
   ]
  },
  {
   "cell_type": "code",
   "execution_count": 19,
   "id": "e304ed4d",
   "metadata": {},
   "outputs": [
    {
     "name": "stdout",
     "output_type": "stream",
     "text": [
      "root\n",
      " |-- ID_Order: integer (nullable = true)\n",
      " |-- ID_Customer: integer (nullable = true)\n",
      " |-- ID_Item: integer (nullable = true)\n",
      " |-- DateTime_CartFinalize: timestamp (nullable = true)\n",
      " |-- Amount_Gross_Order: double (nullable = true)\n",
      " |-- city_name_fa: string (nullable = true)\n",
      " |-- Quantity_item: double (nullable = true)\n",
      " |-- date: string (nullable = true)\n",
      " |-- time: string (nullable = true)\n",
      " |-- year: integer (nullable = true)\n",
      " |-- month: integer (nullable = true)\n",
      " |-- day: integer (nullable = true)\n",
      "\n"
     ]
    }
   ],
   "source": [
    "order_df.printSchema()"
   ]
  },
  {
   "cell_type": "markdown",
   "id": "b210edff",
   "metadata": {},
   "source": [
    "# Total Sales Revenue and Quantity Sold\n"
   ]
  },
  {
   "cell_type": "code",
   "execution_count": 20,
   "id": "c8f88253",
   "metadata": {},
   "outputs": [
    {
     "name": "stdout",
     "output_type": "stream",
     "text": [
      "+----+-----------------------+\n",
      "|year|sum(Amount_Gross_Order)|\n",
      "+----+-----------------------+\n",
      "|2013|          1.213148584E9|\n",
      "|2014|        1.3289856116E10|\n",
      "|2015|        3.2751238135E10|\n",
      "|2016|        5.3899257903E10|\n",
      "|2017|        8.6812584003E10|\n",
      "|2018|       1.03674724022E11|\n",
      "+----+-----------------------+\n",
      "\n"
     ]
    }
   ],
   "source": [
    "# find total sale amont per each year\n",
    "order_df.groupBy(\"year\").sum(\"Amount_Gross_Order\").orderBy(\"year\").show()"
   ]
  },
  {
   "cell_type": "code",
   "execution_count": 21,
   "id": "0a71e5de",
   "metadata": {},
   "outputs": [
    {
     "name": "stdout",
     "output_type": "stream",
     "text": [
      "+----+------------------+\n",
      "|year|sum(Quantity_item)|\n",
      "+----+------------------+\n",
      "|2013|             313.0|\n",
      "|2014|            4605.0|\n",
      "|2015|           22926.0|\n",
      "|2016|           50548.0|\n",
      "|2017|           78389.0|\n",
      "|2018|           95464.0|\n",
      "+----+------------------+\n",
      "\n"
     ]
    }
   ],
   "source": [
    "# find total amount of sold product in each year\n",
    "order_df.groupBy(\"year\").sum(\"Quantity_item\").orderBy(\"year\").show()"
   ]
  },
  {
   "cell_type": "code",
   "execution_count": 22,
   "id": "5b51c882",
   "metadata": {},
   "outputs": [
    {
     "name": "stderr",
     "output_type": "stream",
     "text": [
      "\r",
      "[Stage 27:==============>                                           (1 + 3) / 4]\r"
     ]
    },
    {
     "name": "stdout",
     "output_type": "stream",
     "text": [
      "+----+----------+-----------------------+\n",
      "|year|      date|sum(Amount_Gross_Order)|\n",
      "+----+----------+-----------------------+\n",
      "|2013|2013-09-27|            1.2831321E7|\n",
      "|2013|2013-09-28|               926226.0|\n",
      "|2013|2013-09-29|              9433585.0|\n",
      "|2013|2013-09-30|              8786792.0|\n",
      "|2013|2013-10-04|            4.0274717E7|\n",
      "|2013|2013-10-05|            3.1039057E7|\n",
      "|2013|2013-10-06|                75472.0|\n",
      "|2013|2013-10-07|              7036226.0|\n",
      "|2013|2013-10-08|            1.8896226E7|\n",
      "|2013|2013-10-09|            6.7360566E7|\n",
      "|2013|2013-10-10|              3419057.0|\n",
      "|2013|2013-10-11|              2634340.0|\n",
      "|2013|2013-10-12|            1.8137547E7|\n",
      "|2013|2013-10-13|              9002830.0|\n",
      "|2013|2013-10-14|            1.9861509E7|\n",
      "|2013|2013-10-15|             1.120566E7|\n",
      "|2013|2013-10-16|               122642.0|\n",
      "|2013|2013-10-17|              4133019.0|\n",
      "|2013|2013-10-18|               850189.0|\n",
      "|2013|2013-10-19|              6940188.0|\n",
      "+----+----------+-----------------------+\n",
      "only showing top 20 rows\n",
      "\n"
     ]
    },
    {
     "name": "stderr",
     "output_type": "stream",
     "text": [
      "\r",
      "                                                                                \r"
     ]
    }
   ],
   "source": [
    "# find a day in each year with maximum amonut of saleing\n",
    "order_df.groupBy(\"year\", \"date\").sum(\"Amount_Gross_Order\").orderBy(\"year\", \"date\").show()"
   ]
  },
  {
   "cell_type": "code",
   "execution_count": 23,
   "id": "bddab487",
   "metadata": {},
   "outputs": [
    {
     "name": "stdout",
     "output_type": "stream",
     "text": [
      "root\n",
      " |-- ID_Order: integer (nullable = true)\n",
      " |-- ID_Customer: integer (nullable = true)\n",
      " |-- ID_Item: integer (nullable = true)\n",
      " |-- DateTime_CartFinalize: timestamp (nullable = true)\n",
      " |-- Amount_Gross_Order: double (nullable = true)\n",
      " |-- city_name_fa: string (nullable = true)\n",
      " |-- Quantity_item: double (nullable = true)\n",
      " |-- date: string (nullable = true)\n",
      " |-- time: string (nullable = true)\n",
      " |-- year: integer (nullable = true)\n",
      " |-- month: integer (nullable = true)\n",
      " |-- day: integer (nullable = true)\n",
      "\n"
     ]
    }
   ],
   "source": [
    "order_df.printSchema()"
   ]
  },
  {
   "cell_type": "markdown",
   "id": "bad2eb6e",
   "metadata": {},
   "source": [
    "# Find the day in each year with maximum total sales"
   ]
  },
  {
   "cell_type": "code",
   "execution_count": 24,
   "id": "2890538e",
   "metadata": {},
   "outputs": [],
   "source": [
    "# find total sale each day in each year\n",
    "daily_sales = order_df.groupBy(\"year\", \"date\")\\\n",
    "                      .agg(sum(\"Amount_Gross_Order\").alias(\"total_sales\"))"
   ]
  },
  {
   "cell_type": "code",
   "execution_count": 25,
   "id": "094bbf9d",
   "metadata": {},
   "outputs": [
    {
     "name": "stdout",
     "output_type": "stream",
     "text": [
      "+----+----------+------------+\n",
      "|year|      date| total_sales|\n",
      "+----+----------+------------+\n",
      "|2016|2016-10-30|1.94455409E8|\n",
      "|2017|2017-01-14|2.55403018E8|\n",
      "|2018|2018-04-17|3.62873893E8|\n",
      "|2018|2018-08-18|2.69214592E8|\n",
      "|2014|2014-10-30| 1.2061444E7|\n",
      "|2016|2016-08-07|1.39915684E8|\n",
      "|2015|2015-03-25|1.07598147E8|\n",
      "|2015|2015-12-18| 6.6650826E7|\n",
      "|2015|2015-06-19| 3.4049848E7|\n",
      "|2014|2014-01-18| 1.3158114E7|\n",
      "|2014|2014-06-28| 2.3234629E7|\n",
      "|2018|2018-06-13|3.86119319E8|\n",
      "|2018|2018-09-11|1.44493617E8|\n",
      "|2016|2016-11-07|1.26193016E8|\n",
      "|2015|2015-03-08|1.36026776E8|\n",
      "|2018|2018-06-01|2.47343103E8|\n",
      "|2015|2015-05-18| 9.7257477E7|\n",
      "|2015|2015-05-14| 5.3223119E7|\n",
      "|2013|2013-10-11|   2634340.0|\n",
      "|2018|2018-03-01|3.22532434E8|\n",
      "+----+----------+------------+\n",
      "only showing top 20 rows\n",
      "\n"
     ]
    }
   ],
   "source": [
    "daily_sales.show()"
   ]
  },
  {
   "cell_type": "code",
   "execution_count": 26,
   "id": "d5d8b08d",
   "metadata": {},
   "outputs": [],
   "source": [
    "# find max total sale in each year\n",
    "max_sales_per_year = daily_sales.groupBy(\"year\")\\\n",
    "                                .agg(max(\"total_sales\").alias(\"total_sales\"))"
   ]
  },
  {
   "cell_type": "code",
   "execution_count": 27,
   "id": "c8f291a3",
   "metadata": {},
   "outputs": [
    {
     "name": "stdout",
     "output_type": "stream",
     "text": [
      "+----+-------------+\n",
      "|year|  total_sales|\n",
      "+----+-------------+\n",
      "|2018|1.190929935E9|\n",
      "|2015| 3.37921223E8|\n",
      "|2013|  6.9821132E7|\n",
      "|2014| 1.21584444E8|\n",
      "|2016| 5.56054445E8|\n",
      "|2017|1.870801693E9|\n",
      "+----+-------------+\n",
      "\n"
     ]
    }
   ],
   "source": [
    "max_sales_per_year.show()"
   ]
  },
  {
   "cell_type": "code",
   "execution_count": 28,
   "id": "676a4f8f",
   "metadata": {},
   "outputs": [],
   "source": [
    "# join two previous data frame to get the result\n",
    "day_with_max_sales_per_year = max_sales_per_year.join(daily_sales, [\"year\", \"total_sales\"])\\\n",
    "                                                 .select(\"year\", \"date\", \"total_sales\")"
   ]
  },
  {
   "cell_type": "code",
   "execution_count": 29,
   "id": "cfb5a359",
   "metadata": {},
   "outputs": [
    {
     "name": "stdout",
     "output_type": "stream",
     "text": [
      "+----+----------+-------------+\n",
      "|year|      date|  total_sales|\n",
      "+----+----------+-------------+\n",
      "|2018|2018-03-03|1.190929935E9|\n",
      "|2015|2015-12-20| 3.37921223E8|\n",
      "|2013|2013-11-25|  6.9821132E7|\n",
      "|2014|2014-11-30| 1.21584444E8|\n",
      "|2016|2016-12-20| 5.56054445E8|\n",
      "|2017|2017-09-13|1.870801693E9|\n",
      "+----+----------+-------------+\n",
      "\n"
     ]
    }
   ],
   "source": [
    "day_with_max_sales_per_year.show()"
   ]
  },
  {
   "cell_type": "markdown",
   "id": "0daaa6b7",
   "metadata": {},
   "source": [
    "# How do sales vary by product , and what are the top-selling products?"
   ]
  },
  {
   "cell_type": "code",
   "execution_count": 30,
   "id": "f1378a3e",
   "metadata": {},
   "outputs": [
    {
     "name": "stderr",
     "output_type": "stream",
     "text": [
      "\r",
      "[Stage 47:=======>                                                  (1 + 7) / 8]\r",
      "\r",
      "                                                                                \r"
     ]
    }
   ],
   "source": [
    "# import oders \n",
    "productFilePath = '../data/product.csv'\n",
    "product_df = spark.read.options(header='true', inferSchema='true').csv(productFilePath)"
   ]
  },
  {
   "cell_type": "code",
   "execution_count": 31,
   "id": "c50483b2",
   "metadata": {},
   "outputs": [
    {
     "name": "stdout",
     "output_type": "stream",
     "text": [
      "root\n",
      " |-- id: string (nullable = true)\n",
      " |-- product_title_fa: string (nullable = true)\n",
      " |-- product_title_en: string (nullable = true)\n",
      " |-- url_code: string (nullable = true)\n",
      " |-- title_alt: string (nullable = true)\n",
      " |-- category_title_fa: string (nullable = true)\n",
      " |-- category_keywords: string (nullable = true)\n",
      " |-- brand_name_fa: string (nullable = true)\n",
      " |-- brand_name_en: string (nullable = true)\n",
      " |-- product_attributes: string (nullable = true)\n",
      "\n"
     ]
    }
   ],
   "source": [
    "product_df.printSchema()"
   ]
  },
  {
   "cell_type": "code",
   "execution_count": 32,
   "id": "cf843bd5",
   "metadata": {},
   "outputs": [],
   "source": [
    "orders_with_product_df = order_df.join(product_df, order_df[\"ID_Item\"] == product_df[\"id\"])\\\n",
    "                                 .select(\"Amount_Gross_Order\", \"Quantity_item\",\n",
    "                                         \"date\", \"product_title_fa\", \"category_title_fa\", \"brand_name_fa\")"
   ]
  },
  {
   "cell_type": "code",
   "execution_count": 33,
   "id": "0c68deea",
   "metadata": {},
   "outputs": [
    {
     "name": "stdout",
     "output_type": "stream",
     "text": [
      "root\n",
      " |-- Amount_Gross_Order: double (nullable = true)\n",
      " |-- Quantity_item: double (nullable = true)\n",
      " |-- date: string (nullable = true)\n",
      " |-- product_title_fa: string (nullable = true)\n",
      " |-- category_title_fa: string (nullable = true)\n",
      " |-- brand_name_fa: string (nullable = true)\n",
      "\n"
     ]
    }
   ],
   "source": [
    "orders_with_product_df.printSchema()"
   ]
  },
  {
   "cell_type": "code",
   "execution_count": 34,
   "id": "9d115e27",
   "metadata": {},
   "outputs": [
    {
     "data": {
      "text/plain": [
       "6900"
      ]
     },
     "execution_count": 34,
     "metadata": {},
     "output_type": "execute_result"
    }
   ],
   "source": [
    "orders_with_product_df.count()"
   ]
  },
  {
   "cell_type": "code",
   "execution_count": 35,
   "id": "687941da",
   "metadata": {},
   "outputs": [],
   "source": [
    "# find amount of sales per product\n",
    "products_total_sales = orders_with_product_df.groupBy(\"product_title_fa\")\\\n",
    "                      .agg(sum(\"Amount_Gross_Order\").alias(\"total_sales\"))\\\n",
    "                      .orderBy(\"total_sales\", ascending=False).select(\"product_title_fa\", \"total_sales\")"
   ]
  },
  {
   "cell_type": "code",
   "execution_count": 36,
   "id": "7423602c",
   "metadata": {},
   "outputs": [
    {
     "data": {
      "text/plain": [
       "Row(product_title_fa='تابلو دیواری 9 تکه بارمان کد TA106', total_sales=121693580.0)"
      ]
     },
     "execution_count": 36,
     "metadata": {},
     "output_type": "execute_result"
    }
   ],
   "source": [
    "# get a product with maximum sales\n",
    "products_total_sales.first()\n",
    "\n"
   ]
  },
  {
   "cell_type": "code",
   "execution_count": 37,
   "id": "f2491693",
   "metadata": {},
   "outputs": [
    {
     "data": {
      "text/plain": [
       "Row(product_title_fa='تابلو فرش ماشینی شبیر کد QS20', total_sales=3.0)"
      ]
     },
     "execution_count": 37,
     "metadata": {},
     "output_type": "execute_result"
    }
   ],
   "source": [
    "# get a product with minimum sales\n",
    "products_total_sales.orderBy(\"total_sales\").first()\n"
   ]
  },
  {
   "cell_type": "code",
   "execution_count": 38,
   "id": "2c89731e",
   "metadata": {},
   "outputs": [],
   "source": [
    "orders_with_product_category_df = order_df.join(product_df, order_df[\"ID_Item\"] == product_df[\"id\"])\\\n",
    "                                 .select(\"Amount_Gross_Order\", \"Quantity_item\",\n",
    "                                         \"date\", \"product_title_fa\", \"category_title_fa\")"
   ]
  },
  {
   "cell_type": "code",
   "execution_count": 39,
   "id": "e0646eb2",
   "metadata": {},
   "outputs": [
    {
     "name": "stdout",
     "output_type": "stream",
     "text": [
      "root\n",
      " |-- Amount_Gross_Order: double (nullable = true)\n",
      " |-- Quantity_item: double (nullable = true)\n",
      " |-- date: string (nullable = true)\n",
      " |-- product_title_fa: string (nullable = true)\n",
      " |-- category_title_fa: string (nullable = true)\n",
      "\n"
     ]
    }
   ],
   "source": [
    "orders_with_product_category_df.printSchema()"
   ]
  },
  {
   "cell_type": "code",
   "execution_count": 40,
   "id": "7c9f95c2",
   "metadata": {},
   "outputs": [
    {
     "name": "stdout",
     "output_type": "stream",
     "text": [
      "+--------------------+-----------+\n",
      "|   category_title_fa|total_sales|\n",
      "+--------------------+-----------+\n",
      "|          فرش ماشینی|2.0571879E7|\n",
      "|مانیتور و پیجر ات...|  1960000.0|\n",
      "|            تلویزیون|   974000.0|\n",
      "|           سایر ظروف|   550367.0|\n",
      "|         چراغ تزئینی|3.1556269E7|\n",
      "|  کابل صوتی و تصویری|  2279000.0|\n",
      "|  قاشق، چنگال و کارد|    49541.0|\n",
      "|          کیف و کوله|1.3500763E7|\n",
      "|        عینک سه بعدی|  2950000.0|\n",
      "|    پستانک و ملزومات|  4994138.0|\n",
      "|         ست و نیم ست|2.7632224E7|\n",
      "|    ست و نیم ست نقره|   313000.0|\n",
      "|    ابزار شیرینی پزی|  3984591.0|\n",
      "|       قمقمه و فلاسک|  2957459.0|\n",
      "|              دستبند|6.8113113E7|\n",
      "|تجهیزات جانبی ایر...| 1.380404E7|\n",
      "|                 گبه|  8330000.0|\n",
      "|ابزار ایمنی کودک ...|  2150000.0|\n",
      "|    کیف و کوله مدرسه|9.5363073E7|\n",
      "|آموزش نرم‌افزار و...|   265000.0|\n",
      "+--------------------+-----------+\n",
      "only showing top 20 rows\n",
      "\n"
     ]
    }
   ],
   "source": [
    "orders_with_product_category_df.groupBy(\"category_title_fa\").agg(sum(\"Amount_Gross_Order\").alias(\"total_sales\"))\\\n",
    "                                                            .select(\"category_title_fa\", \"total_sales\").show()"
   ]
  },
  {
   "cell_type": "code",
   "execution_count": 41,
   "id": "e3120f92",
   "metadata": {},
   "outputs": [
    {
     "data": {
      "text/plain": [
       "Row(category_title_fa=None, total_sales=389516841.0)"
      ]
     },
     "execution_count": 41,
     "metadata": {},
     "output_type": "execute_result"
    }
   ],
   "source": [
    "# find category with max sales\n",
    "orders_with_product_category_df.groupBy(\"category_title_fa\").agg(sum(\"Amount_Gross_Order\").alias(\"total_sales\"))\\\n",
    "                                                            .select(\"category_title_fa\", \"total_sales\")\\\n",
    "                                                            .orderBy(\"total_sales\", ascending=False).first()"
   ]
  },
  {
   "cell_type": "code",
   "execution_count": 42,
   "id": "58fa87a1",
   "metadata": {},
   "outputs": [
    {
     "data": {
      "text/plain": [
       "Row(category_title_fa='کهنه کودک و نوزاد', total_sales=4000.0)"
      ]
     },
     "execution_count": 42,
     "metadata": {},
     "output_type": "execute_result"
    }
   ],
   "source": [
    "# find category with min sales\n",
    "orders_with_product_category_df.groupBy(\"category_title_fa\").agg(sum(\"Amount_Gross_Order\").alias(\"total_sales\"))\\\n",
    "                                                            .select(\"category_title_fa\", \"total_sales\")\\\n",
    "                                                            .orderBy(\"total_sales\").first()"
   ]
  },
  {
   "cell_type": "markdown",
   "id": "0b1a2e04",
   "metadata": {},
   "source": [
    "# What are the sales trends over time"
   ]
  },
  {
   "cell_type": "code",
   "execution_count": 43,
   "id": "a70ccdf4",
   "metadata": {},
   "outputs": [],
   "source": [
    "trade_trend_per_year_df = order_df.groupBy(\"year\").agg(sum(\"Amount_Gross_Order\").alias(\"total_sales\"))\\\n",
    "                                                   .select(\"year\", \"total_sales\")\\\n",
    "                                                   .orderBy('year')"
   ]
  },
  {
   "cell_type": "code",
   "execution_count": 44,
   "id": "3aa8dfb0",
   "metadata": {},
   "outputs": [
    {
     "name": "stdout",
     "output_type": "stream",
     "text": [
      "+----+----------------+\n",
      "|year|     total_sales|\n",
      "+----+----------------+\n",
      "|2013|   1.213148584E9|\n",
      "|2014| 1.3289856116E10|\n",
      "|2015| 3.2751238135E10|\n",
      "|2016| 5.3899257903E10|\n",
      "|2017| 8.6812584003E10|\n",
      "|2018|1.03674724022E11|\n",
      "+----+----------------+\n",
      "\n"
     ]
    }
   ],
   "source": [
    "trade_trend_per_year_df.show()"
   ]
  },
  {
   "cell_type": "code",
   "execution_count": 45,
   "id": "debb5ac4",
   "metadata": {},
   "outputs": [],
   "source": [
    "import matplotlib.pyplot as plt\n",
    "import numpy as np\n",
    "import pandas as pd"
   ]
  },
  {
   "cell_type": "code",
   "execution_count": 46,
   "id": "b509b64b",
   "metadata": {},
   "outputs": [],
   "source": [
    "trends_pd = trade_trend_per_year_df.toPandas()"
   ]
  },
  {
   "cell_type": "code",
   "execution_count": 47,
   "id": "6da2f7b0",
   "metadata": {},
   "outputs": [
    {
     "data": {
      "text/html": [
       "<div>\n",
       "<style scoped>\n",
       "    .dataframe tbody tr th:only-of-type {\n",
       "        vertical-align: middle;\n",
       "    }\n",
       "\n",
       "    .dataframe tbody tr th {\n",
       "        vertical-align: top;\n",
       "    }\n",
       "\n",
       "    .dataframe thead th {\n",
       "        text-align: right;\n",
       "    }\n",
       "</style>\n",
       "<table border=\"1\" class=\"dataframe\">\n",
       "  <thead>\n",
       "    <tr style=\"text-align: right;\">\n",
       "      <th></th>\n",
       "      <th>year</th>\n",
       "      <th>total_sales</th>\n",
       "    </tr>\n",
       "  </thead>\n",
       "  <tbody>\n",
       "    <tr>\n",
       "      <th>0</th>\n",
       "      <td>2013</td>\n",
       "      <td>1.213149e+09</td>\n",
       "    </tr>\n",
       "    <tr>\n",
       "      <th>1</th>\n",
       "      <td>2014</td>\n",
       "      <td>1.328986e+10</td>\n",
       "    </tr>\n",
       "    <tr>\n",
       "      <th>2</th>\n",
       "      <td>2015</td>\n",
       "      <td>3.275124e+10</td>\n",
       "    </tr>\n",
       "    <tr>\n",
       "      <th>3</th>\n",
       "      <td>2016</td>\n",
       "      <td>5.389926e+10</td>\n",
       "    </tr>\n",
       "    <tr>\n",
       "      <th>4</th>\n",
       "      <td>2017</td>\n",
       "      <td>8.681258e+10</td>\n",
       "    </tr>\n",
       "    <tr>\n",
       "      <th>5</th>\n",
       "      <td>2018</td>\n",
       "      <td>1.036747e+11</td>\n",
       "    </tr>\n",
       "  </tbody>\n",
       "</table>\n",
       "</div>"
      ],
      "text/plain": [
       "   year   total_sales\n",
       "0  2013  1.213149e+09\n",
       "1  2014  1.328986e+10\n",
       "2  2015  3.275124e+10\n",
       "3  2016  5.389926e+10\n",
       "4  2017  8.681258e+10\n",
       "5  2018  1.036747e+11"
      ]
     },
     "execution_count": 47,
     "metadata": {},
     "output_type": "execute_result"
    }
   ],
   "source": [
    "trends_pd"
   ]
  },
  {
   "cell_type": "code",
   "execution_count": 48,
   "id": "bff0fbbb",
   "metadata": {},
   "outputs": [
    {
     "data": {
      "image/png": "[encoded data removed]",
      "text/plain": [
       "<Figure size 720x432 with 1 Axes>"
      ]
     },
     "metadata": {
      "needs_background": "light"
     },
     "output_type": "display_data"
    }
   ],
   "source": [
    "# Plot the sales trends\n",
    "plt.figure(figsize=(10,6))\n",
    "plt.plot(np.array(trends_pd[\"year\"]), np.array(trends_pd[\"total_sales\"]), marker='o')\n",
    "plt.xlabel(\"Year\") \n",
    "plt.ylabel(\"Total Sales\")\n",
    "plt.title(\"Sales Trends\")\n",
    "plt.grid(True)\n",
    "plt.show()\n"
   ]
  },
  {
   "cell_type": "code",
   "execution_count": 49,
   "id": "10bf9d59",
   "metadata": {},
   "outputs": [],
   "source": [
    "trade_trend_per_month_for_specific_year = order_df.where(col(\"year\")==2018)\\\n",
    "                                                  .groupBy(\"month\")\\\n",
    "                                                  .agg(sum(\"Amount_Gross_Order\").alias(\"total_sales\"))\\\n",
    "                                                  .select(\"month\", \"total_sales\")\\\n",
    "                                                  .orderBy(\"month\")\n"
   ]
  },
  {
   "cell_type": "code",
   "execution_count": 50,
   "id": "087c2af6",
   "metadata": {},
   "outputs": [
    {
     "name": "stdout",
     "output_type": "stream",
     "text": [
      "+-----+---------------+\n",
      "|month|    total_sales|\n",
      "+-----+---------------+\n",
      "|    1|  9.521618579E9|\n",
      "|    2|1.1014640768E10|\n",
      "|    3|1.2486512923E10|\n",
      "|    4|1.0808548474E10|\n",
      "|    5|1.1443512431E10|\n",
      "|    6| 1.005451957E10|\n",
      "|    7|  8.109363588E9|\n",
      "|    8|  6.513780987E9|\n",
      "|    9|  7.394628322E9|\n",
      "|   10|  6.187311201E9|\n",
      "|   11|  7.026060108E9|\n",
      "|   12|  3.114227071E9|\n",
      "+-----+---------------+\n",
      "\n"
     ]
    }
   ],
   "source": [
    "trade_trend_per_month_for_specific_year.show()"
   ]
  },
  {
   "cell_type": "code",
   "execution_count": 51,
   "id": "9857a35d",
   "metadata": {},
   "outputs": [],
   "source": [
    "trends_pd = trade_trend_per_month_for_specific_year.toPandas()"
   ]
  },
  {
   "cell_type": "code",
   "execution_count": 52,
   "id": "128f74ca",
   "metadata": {},
   "outputs": [
    {
     "data": {
      "text/html": [
       "<div>\n",
       "<style scoped>\n",
       "    .dataframe tbody tr th:only-of-type {\n",
       "        vertical-align: middle;\n",
       "    }\n",
       "\n",
       "    .dataframe tbody tr th {\n",
       "        vertical-align: top;\n",
       "    }\n",
       "\n",
       "    .dataframe thead th {\n",
       "        text-align: right;\n",
       "    }\n",
       "</style>\n",
       "<table border=\"1\" class=\"dataframe\">\n",
       "  <thead>\n",
       "    <tr style=\"text-align: right;\">\n",
       "      <th></th>\n",
       "      <th>month</th>\n",
       "      <th>total_sales</th>\n",
       "    </tr>\n",
       "  </thead>\n",
       "  <tbody>\n",
       "    <tr>\n",
       "      <th>0</th>\n",
       "      <td>1</td>\n",
       "      <td>9.521619e+09</td>\n",
       "    </tr>\n",
       "    <tr>\n",
       "      <th>1</th>\n",
       "      <td>2</td>\n",
       "      <td>1.101464e+10</td>\n",
       "    </tr>\n",
       "    <tr>\n",
       "      <th>2</th>\n",
       "      <td>3</td>\n",
       "      <td>1.248651e+10</td>\n",
       "    </tr>\n",
       "    <tr>\n",
       "      <th>3</th>\n",
       "      <td>4</td>\n",
       "      <td>1.080855e+10</td>\n",
       "    </tr>\n",
       "    <tr>\n",
       "      <th>4</th>\n",
       "      <td>5</td>\n",
       "      <td>1.144351e+10</td>\n",
       "    </tr>\n",
       "    <tr>\n",
       "      <th>5</th>\n",
       "      <td>6</td>\n",
       "      <td>1.005452e+10</td>\n",
       "    </tr>\n",
       "    <tr>\n",
       "      <th>6</th>\n",
       "      <td>7</td>\n",
       "      <td>8.109364e+09</td>\n",
       "    </tr>\n",
       "    <tr>\n",
       "      <th>7</th>\n",
       "      <td>8</td>\n",
       "      <td>6.513781e+09</td>\n",
       "    </tr>\n",
       "    <tr>\n",
       "      <th>8</th>\n",
       "      <td>9</td>\n",
       "      <td>7.394628e+09</td>\n",
       "    </tr>\n",
       "    <tr>\n",
       "      <th>9</th>\n",
       "      <td>10</td>\n",
       "      <td>6.187311e+09</td>\n",
       "    </tr>\n",
       "    <tr>\n",
       "      <th>10</th>\n",
       "      <td>11</td>\n",
       "      <td>7.026060e+09</td>\n",
       "    </tr>\n",
       "    <tr>\n",
       "      <th>11</th>\n",
       "      <td>12</td>\n",
       "      <td>3.114227e+09</td>\n",
       "    </tr>\n",
       "  </tbody>\n",
       "</table>\n",
       "</div>"
      ],
      "text/plain": [
       "    month   total_sales\n",
       "0       1  9.521619e+09\n",
       "1       2  1.101464e+10\n",
       "2       3  1.248651e+10\n",
       "3       4  1.080855e+10\n",
       "4       5  1.144351e+10\n",
       "5       6  1.005452e+10\n",
       "6       7  8.109364e+09\n",
       "7       8  6.513781e+09\n",
       "8       9  7.394628e+09\n",
       "9      10  6.187311e+09\n",
       "10     11  7.026060e+09\n",
       "11     12  3.114227e+09"
      ]
     },
     "execution_count": 52,
     "metadata": {},
     "output_type": "execute_result"
    }
   ],
   "source": [
    "trends_pd"
   ]
  },
  {
   "cell_type": "code",
   "execution_count": 53,
   "id": "7d59edce",
   "metadata": {},
   "outputs": [
    {
     "data": {
      "image/png": "[encoded data removed]",
      "text/plain": [
       "<Figure size 720x432 with 1 Axes>"
      ]
     },
     "metadata": {
      "needs_background": "light"
     },
     "output_type": "display_data"
    }
   ],
   "source": [
    "# Plot the sales trends per month\n",
    "plt.figure(figsize=(10,6))\n",
    "plt.plot(np.array(trends_pd[\"month\"]), np.array(trends_pd[\"total_sales\"]), marker='o')\n",
    "plt.xlabel(\"Month\") \n",
    "plt.ylabel(\"Total Sales\")\n",
    "plt.title(\"Sales Trends\")\n",
    "plt.grid(True)\n",
    "plt.show()\n"
   ]
  },
  {
   "cell_type": "code",
   "execution_count": null,
   "id": "8e4f0a46",
   "metadata": {},
   "outputs": [],
   "source": []
  },
  {
   "cell_type": "code",
   "execution_count": null,
   "id": "9dbf0b34",
   "metadata": {},
   "outputs": [],
   "source": []
  }
 ],
 "metadata": {
  "kernelspec": {
   "display_name": "Python 3 (ipykernel)",
   "language": "python",
   "name": "python3"
  },
  "language_info": {
   "codemirror_mode": {
    "name": "ipython",
    "version": 3
   },
   "file_extension": ".py",
   "mimetype": "text/x-python",
   "name": "python",
   "nbconvert_exporter": "python",
   "pygments_lexer": "ipython3",
   "version": "3.10.12"
  }
 },
 "nbformat": 4,
 "nbformat_minor": 5
}
